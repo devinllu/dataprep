{
 "cells": [
  {
   "cell_type": "markdown",
   "metadata": {},
   "source": [
    "If you haven't installed dataprep, run command `pip install dataprep` or execute the following cell"
   ]
  },
  {
   "cell_type": "code",
   "execution_count": null,
   "metadata": {},
   "outputs": [],
   "source": [
    "# Run me if you'd like to install\n",
    "!pip install dataprep"
   ]
  },
  {
   "cell_type": "code",
   "execution_count": null,
   "metadata": {},
   "outputs": [],
   "source": [
    "from dataprep.data_connector import Connector"
   ]
  },
  {
   "cell_type": "markdown",
   "metadata": {},
   "source": [
    "# Download restaurant data from Yelp\n",
    "\n",
    "Imaging you want to download the restaurant data from Yelp into a pandas Dataframe. With data connector, you can easily accomplish the task with two lines of code."
   ]
  },
  {
   "cell_type": "markdown",
   "metadata": {},
   "source": [
    "1. Create a Connector, provide the data source and the access token.\n",
    "   In this case, the data source is \"yelp\". You can get a token by following the [yelp document](https://www.yelp.com/developers/documentation/v3/authentication)"
   ]
  },
  {
   "cell_type": "code",
   "execution_count": 19,
   "metadata": {},
   "outputs": [],
   "source": [
    "dc = Connector(\"yelp\", auth_params={\"access_token\":\"<Your yelp access token>\"})"
   ]
  },
  {
   "cell_type": "markdown",
   "metadata": {},
   "source": [
    "2. Get the data from the \"restaurant\" table, providing the term \"ramen\" and location \"vancouver\"."
   ]
  },
  {
   "cell_type": "code",
   "execution_count": 22,
   "metadata": {},
   "outputs": [],
   "source": [
    "df = dc.query(\"businesses\", term=\"ramen\", location=\"vancouver\")"
   ]
  },
  {
   "cell_type": "markdown",
   "metadata": {},
   "source": [
    "3. Tada, you get the datafram"
   ]
  },
  {
   "cell_type": "code",
   "execution_count": 23,
   "metadata": {},
   "outputs": [
    {
     "data": {
      "text/html": [
       "<div>\n",
       "<style scoped>\n",
       "    .dataframe tbody tr th:only-of-type {\n",
       "        vertical-align: middle;\n",
       "    }\n",
       "\n",
       "    .dataframe tbody tr th {\n",
       "        vertical-align: top;\n",
       "    }\n",
       "\n",
       "    .dataframe thead th {\n",
       "        text-align: right;\n",
       "    }\n",
       "</style>\n",
       "<table border=\"1\" class=\"dataframe\">\n",
       "  <thead>\n",
       "    <tr style=\"text-align: right;\">\n",
       "      <th></th>\n",
       "      <th>rating</th>\n",
       "      <th>price</th>\n",
       "      <th>phone</th>\n",
       "      <th>name</th>\n",
       "      <th>url</th>\n",
       "      <th>latitude</th>\n",
       "      <th>longtitude</th>\n",
       "      <th>city</th>\n",
       "      <th>country</th>\n",
       "      <th>address2</th>\n",
       "      <th>address3</th>\n",
       "      <th>state</th>\n",
       "      <th>address1</th>\n",
       "      <th>zip_code</th>\n",
       "    </tr>\n",
       "  </thead>\n",
       "  <tbody>\n",
       "    <tr>\n",
       "      <th>0</th>\n",
       "      <td>4.5</td>\n",
       "      <td>$$</td>\n",
       "      <td>+16042670026</td>\n",
       "      <td>Hive Hair Spa</td>\n",
       "      <td>https://www.yelp.com/biz/hive-hair-spa-vancouv...</td>\n",
       "      <td>49.210998</td>\n",
       "      <td>-123.130436</td>\n",
       "      <td>Vancouver</td>\n",
       "      <td>CA</td>\n",
       "      <td></td>\n",
       "      <td></td>\n",
       "      <td>BC</td>\n",
       "      <td>8257 Oak Street</td>\n",
       "      <td>V6P 4A8</td>\n",
       "    </tr>\n",
       "    <tr>\n",
       "      <th>1</th>\n",
       "      <td>4.5</td>\n",
       "      <td>$$</td>\n",
       "      <td>+16046821555</td>\n",
       "      <td>Alpha D Hair Salon</td>\n",
       "      <td>https://www.yelp.com/biz/alpha-d-hair-salon-va...</td>\n",
       "      <td>49.279064</td>\n",
       "      <td>-123.117188</td>\n",
       "      <td>Vancouver</td>\n",
       "      <td>CA</td>\n",
       "      <td></td>\n",
       "      <td></td>\n",
       "      <td>BC</td>\n",
       "      <td>818 Homer Street</td>\n",
       "      <td>V6B 2W5</td>\n",
       "    </tr>\n",
       "    <tr>\n",
       "      <th>2</th>\n",
       "      <td>4.0</td>\n",
       "      <td>$</td>\n",
       "      <td>+16048756635</td>\n",
       "      <td>Fantasy Cuts</td>\n",
       "      <td>https://www.yelp.com/biz/fantasy-cuts-vancouve...</td>\n",
       "      <td>49.262347</td>\n",
       "      <td>-123.088104</td>\n",
       "      <td>Vancouver</td>\n",
       "      <td>CA</td>\n",
       "      <td></td>\n",
       "      <td></td>\n",
       "      <td>BC</td>\n",
       "      <td>744 Broadway E</td>\n",
       "      <td>V5T 1X9</td>\n",
       "    </tr>\n",
       "    <tr>\n",
       "      <th>3</th>\n",
       "      <td>4.5</td>\n",
       "      <td>$$</td>\n",
       "      <td>+16046209986</td>\n",
       "      <td>Salon Haze</td>\n",
       "      <td>https://www.yelp.com/biz/salon-haze-vancouver?...</td>\n",
       "      <td>49.264016</td>\n",
       "      <td>-123.171881</td>\n",
       "      <td>Vancouver</td>\n",
       "      <td>CA</td>\n",
       "      <td>None</td>\n",
       "      <td></td>\n",
       "      <td>BC</td>\n",
       "      <td>2996 W Broadway</td>\n",
       "      <td>V6K 2G8</td>\n",
       "    </tr>\n",
       "    <tr>\n",
       "      <th>4</th>\n",
       "      <td>5.0</td>\n",
       "      <td>$$</td>\n",
       "      <td>+16048748083</td>\n",
       "      <td>Bangs Salon</td>\n",
       "      <td>https://www.yelp.com/biz/bangs-salon-vancouver...</td>\n",
       "      <td>49.263030</td>\n",
       "      <td>-123.097270</td>\n",
       "      <td>Vancouver</td>\n",
       "      <td>CA</td>\n",
       "      <td></td>\n",
       "      <td></td>\n",
       "      <td>BC</td>\n",
       "      <td>361 E Broadway</td>\n",
       "      <td>V5T 1W5</td>\n",
       "    </tr>\n",
       "  </tbody>\n",
       "</table>\n",
       "</div>"
      ],
      "text/plain": [
       "   rating price         phone                name  \\\n",
       "0     4.5    $$  +16042670026       Hive Hair Spa   \n",
       "1     4.5    $$  +16046821555  Alpha D Hair Salon   \n",
       "2     4.0     $  +16048756635        Fantasy Cuts   \n",
       "3     4.5    $$  +16046209986          Salon Haze   \n",
       "4     5.0    $$  +16048748083         Bangs Salon   \n",
       "\n",
       "                                                 url   latitude  longtitude  \\\n",
       "0  https://www.yelp.com/biz/hive-hair-spa-vancouv...  49.210998 -123.130436   \n",
       "1  https://www.yelp.com/biz/alpha-d-hair-salon-va...  49.279064 -123.117188   \n",
       "2  https://www.yelp.com/biz/fantasy-cuts-vancouve...  49.262347 -123.088104   \n",
       "3  https://www.yelp.com/biz/salon-haze-vancouver?...  49.264016 -123.171881   \n",
       "4  https://www.yelp.com/biz/bangs-salon-vancouver...  49.263030 -123.097270   \n",
       "\n",
       "        city country address2 address3 state          address1 zip_code  \n",
       "0  Vancouver      CA                      BC   8257 Oak Street  V6P 4A8  \n",
       "1  Vancouver      CA                      BC  818 Homer Street  V6B 2W5  \n",
       "2  Vancouver      CA                      BC    744 Broadway E  V5T 1X9  \n",
       "3  Vancouver      CA     None             BC   2996 W Broadway  V6K 2G8  \n",
       "4  Vancouver      CA                      BC    361 E Broadway  V5T 1W5  "
      ]
     },
     "execution_count": 23,
     "metadata": {},
     "output_type": "execute_result"
    }
   ],
   "source": [
    "df.head()"
   ]
  },
  {
   "cell_type": "markdown",
   "metadata": {},
   "source": [
    "All supported data sources can be found at [here](https://github.com/sfu-db/DataConnectorConfigs). "
   ]
  }
 ],
 "metadata": {
  "kernelspec": {
   "display_name": "Python 3",
   "language": "python",
   "name": "python3"
  },
  "language_info": {
   "codemirror_mode": {
    "name": "ipython",
    "version": 3
   },
   "file_extension": ".py",
   "mimetype": "text/x-python",
   "name": "python",
   "nbconvert_exporter": "python",
   "pygments_lexer": "ipython3",
   "version": "3.7.5"
  }
 },
 "nbformat": 4,
 "nbformat_minor": 4
}
